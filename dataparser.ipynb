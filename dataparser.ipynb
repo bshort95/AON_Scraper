{
  "nbformat": 4,
  "nbformat_minor": 0,
  "metadata": {
    "colab": {
      "provenance": []
    },
    "kernelspec": {
      "name": "python3",
      "display_name": "Python 3"
    },
    "language_info": {
      "name": "python"
    }
  },
  "cells": [
    {
      "cell_type": "code",
      "source": [
        "import requests\n",
        "import re"
      ],
      "metadata": {
        "id": "nPc7KMKQYC7S"
      },
      "execution_count": 174,
      "outputs": []
    },
    {
      "cell_type": "markdown",
      "source": [
        "we are getting the monster details we got from the webscraper."
      ],
      "metadata": {
        "id": "Oymb6hbptui1"
      }
    },
    {
      "cell_type": "code",
      "execution_count": 175,
      "metadata": {
        "id": "CsBlePgZabeL"
      },
      "outputs": [],
      "source": [
        "master = \"https://raw.githubusercontent.com/bshort95/AON_Scraper/refs/heads/main/monsterDeets.txt\"\n",
        "req = requests.get(master)\n",
        "text = req.text"
      ]
    },
    {
      "cell_type": "markdown",
      "source": [
        "the following functions are for parsing the html data into usable data"
      ],
      "metadata": {
        "id": "wEyqrOYRtt05"
      }
    },
    {
      "cell_type": "code",
      "source": [
        "def removebrax(text):\n",
        "  tempText = \"\"\n",
        "  tempText1 = \"\"\n",
        "  write = True\n",
        "  for x in text:\n",
        "    if x == \"<\":\n",
        "      write = False\n",
        "\n",
        "    if(write):\n",
        "      tempText = tempText + x;\n",
        "    if x == \">\":\n",
        "      write = True\n",
        "      if tempText[-1] != \"|\":\n",
        "        tempText = tempText + \"|\"\n",
        "\n",
        "  return tempText"
      ],
      "metadata": {
        "id": "POnynDQY0ZP5"
      },
      "execution_count": 176,
      "outputs": []
    },
    {
      "cell_type": "code",
      "source": [
        "def getName(text):\n",
        "  text = removebrax(text)\n",
        "  text = text.replace(\"|There is a Legacy version |here|.\",\"\")\n",
        "  textList= text.split(\"|\")\n",
        "  if len(textList)>1:\n",
        "    return textList[1]\n",
        "  else:\n",
        "    return \"\""
      ],
      "metadata": {
        "id": "J960zjsf3xZ6"
      },
      "execution_count": 188,
      "outputs": []
    },
    {
      "cell_type": "code",
      "source": [
        "def getdesc(text, name):\n",
        "  blob = text.split(\">\"+name+\"<\")\n",
        "  if len(blob)>1:\n",
        "    temp = removebrax(blob[1])[5:]\n",
        "    temp1 = temp.split(\"Elite| | |Normal| | |Weak|Proficiency without Level|\")[0]\n",
        "    if \"Recall Knowledge\" in temp1:\n",
        "      temp1 =  temp1.split(\"Recall Knowledge\")[0]\n",
        "    temp1 = temp1.replace(\"|\",\"\")\n",
        "    if temp1 == \"\":\n",
        "      temp1 = \"This creature did not include a description\"\n",
        "    temp1 = temp1.replace(\"\\\"\",\"\")\n",
        "    return \"\\\"\" + temp1 + \"\\\"\"\n",
        "  else:\n",
        "    return \"\\\"This creature did not include a description\\\"\""
      ],
      "metadata": {
        "id": "o0y17m0AiquD"
      },
      "execution_count": 192,
      "outputs": []
    },
    {
      "cell_type": "code",
      "source": [
        "def getid(text):\n",
        "  temp = removebrax(text)\n",
        "  temp1 = temp.split(\"|\")[0]\n",
        "  return temp1.split(\":\")[-2]"
      ],
      "metadata": {
        "id": "eI5m5W-A8ke0"
      },
      "execution_count": 179,
      "outputs": []
    },
    {
      "cell_type": "code",
      "source": [
        "def getKnow(text):\n",
        "  total = \"\"\n",
        "  temp = removebrax(text)\n",
        "  st = temp.find(\"Recall Knowledge\")\n",
        "  et = temp.find(\"Elite| | |\")\n",
        "  if(st > 0):\n",
        "    ret = temp[st:et]\n",
        "    ret = ret.replace(\"|\",\" \")\n",
        "    ret = ret.replace(\"Recall Knowledge - \",\"\")\n",
        "    total = \"\\\"\" + ret + \"\\\"\"\n",
        "  return total"
      ],
      "metadata": {
        "id": "RwwrcSdxt793"
      },
      "execution_count": 180,
      "outputs": []
    },
    {
      "cell_type": "code",
      "source": [
        "def getLevel(text):\n",
        "  text1 = text[:text.find(\"<hr />\")]\n",
        "  text2 = removebrax(text1)\n",
        "  text3 = text2[text2.find(\"Proficiency without Level|\"):]\n",
        "  block = text3.split(\"|\")\n",
        "  if len(block) >1:\n",
        "    return block[2]\n",
        "  return \"\""
      ],
      "metadata": {
        "id": "3uBjW1zSxL9X"
      },
      "execution_count": 181,
      "outputs": []
    },
    {
      "cell_type": "code",
      "source": [
        "def getAddInfo(text,name):\n",
        "  text1 = text.split(\">\"+name+\"<\")[-1]\n",
        "  text2 = removebrax(text1)\n",
        "  text3 = text2[text2.rfind(\"|Source|\"):]\n",
        "  if \"|Perception|\" in text3:\n",
        "    return \"\"\n",
        "  text4 = \"\".join(text3.split(\"|\")[4:])\n",
        "  text4 = text4.replace(\"\\\"\",\"\")\n",
        "  return \"\\\"\" + text4 + \"\\\"\""
      ],
      "metadata": {
        "id": "8sT31xgf2aqK"
      },
      "execution_count": 191,
      "outputs": []
    },
    {
      "cell_type": "markdown",
      "source": [
        "this is where we use the helper parser functions to compile the data into a useful csv format"
      ],
      "metadata": {
        "id": "GRVvc3KRuh_N"
      }
    },
    {
      "cell_type": "code",
      "source": [
        "def parseline(text):\n",
        "  id = getid(text)\n",
        "  name = getName(text)\n",
        "  description = getdesc(text, name)\n",
        "  knowledge = getKnow(text)\n",
        "  level = getLevel(text)\n",
        "  addInfo = getAddInfo(text, name)\n",
        "  text = id + \",\" +\"\\\"\"+ name+\"\\\"\" + \",\" + level + \",\" + description + \",\" + knowledge + \",\" + addInfo\n",
        "  return text;"
      ],
      "metadata": {
        "id": "Zu0pR81GoFl2"
      },
      "execution_count": 187,
      "outputs": []
    },
    {
      "cell_type": "markdown",
      "source": [
        "this is where we write to corpus data, which is what we use for the bm25 search."
      ],
      "metadata": {
        "id": "XGz0nyRTus42"
      }
    },
    {
      "cell_type": "code",
      "source": [
        "temp = []\n",
        "temp = text.splitlines()\n",
        "header = \"id,name,level,description,knowledge,addInfo\\n\"\n",
        "f = open(\"/content/corpusData.csv\", \"w\")\n",
        "f.write(header)\n",
        "for x in temp:\n",
        "  if len(x) >6: # some edgecase ids with no content.\n",
        "    f.write(parseline(x) + \"\\n\")\n",
        "f.close()\n"
      ],
      "metadata": {
        "id": "Lk5H8APUbGDU"
      },
      "execution_count": 193,
      "outputs": []
    }
  ]
}